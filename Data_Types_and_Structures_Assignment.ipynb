{
  "nbformat": 4,
  "nbformat_minor": 0,
  "metadata": {
    "colab": {
      "provenance": []
    },
    "kernelspec": {
      "name": "python3",
      "display_name": "Python 3"
    },
    "language_info": {
      "name": "python"
    }
  },
  "cells": [
    {
      "cell_type": "markdown",
      "source": [
        "**Data Types and Structures**\n",
        "\n",
        "**Theoritical Questions**\n",
        "\n",
        "### 1. **What are data structures, and why are they important?**\n",
        "Data structures are ways of organizing and storing data efficiently to perform operations like insertion, deletion, search, and retrieval. They are crucial because they help ensure that data can be managed and manipulated in an optimal way depending on the type of operation required. Proper use of data structures improves efficiency in algorithms, memory usage, and computational speed.\n",
        "\n",
        "---\n",
        "\n",
        "### 2. **Explain the difference between mutable and immutable data types with examples**\n",
        "- **Mutable data types** can be changed after they are created. Examples: Lists, dictionaries, and sets.\n",
        "  ```python\n",
        "  my_list = [1, 2, 3]\n",
        "  my_list[0] = 10  # List can be modified\n",
        "  ```\n",
        "- **Immutable data types** cannot be changed after they are created. Examples: Strings, tuples, and integers.\n",
        "  ```python\n",
        "  my_string = \"hello\"\n",
        "  my_string[0] = \"H\"  # This will raise an error, as strings are immutable\n",
        "  ```\n",
        "\n",
        "---\n",
        "\n",
        "### 3. **What are the main differences between lists and tuples in Python?**\n",
        "- **Mutability**: Lists are mutable, meaning they can be modified (elements can be changed, added, or removed). Tuples are immutable, meaning once they are created, they cannot be modified.\n",
        "- **Syntax**: Lists use square brackets `[]`, while tuples use parentheses `()`.\n",
        "  ```python\n",
        "  my_list = [1, 2, 3]\n",
        "  my_tuple = (1, 2, 3)\n",
        "  ```\n",
        "- **Performance**: Tuples are generally faster than lists because they are immutable and optimized for fixed-size storage.\n",
        "\n",
        "---\n",
        "\n",
        "### 4. **Describe how dictionaries store data**\n",
        "Dictionaries store data in key-value pairs. The key is unique and is used to access the corresponding value. Internally, dictionaries use a hash table to store these pairs, which allows for fast lookups based on the key.\n",
        "  ```python\n",
        "  my_dict = {\"name\": \"Alice\", \"age\": 25}\n",
        "  print(my_dict[\"name\"])  # Output: Alice\n",
        "  ```\n",
        "\n",
        "---\n",
        "\n",
        "### 5. **Why might you use a set instead of a list in Python?**\n",
        "You might use a set instead of a list when:\n",
        "- You need to ensure that all elements are unique (sets automatically remove duplicates).\n",
        "- You need faster membership tests (checking if an item exists) since sets provide O(1) average-time complexity for lookups, while lists provide O(n).\n",
        "  ```python\n",
        "  my_set = {1, 2, 3}\n",
        "  print(2 in my_set)  # Faster than checking in a list\n",
        "  ```\n",
        "\n",
        "---\n",
        "\n",
        "### 6. **What is a string in Python, and how is it different from a list?**\n",
        "A **string** in Python is a sequence of characters, and like tuples, strings are immutable. A **list**, on the other hand, is a collection of ordered elements that can be of any data type, and it is mutable.\n",
        "- **String Example**: `my_string = \"hello\"`\n",
        "- **List Example**: `my_list = [1, \"hello\", 3.14]`\n",
        "  - Strings are used for textual data, while lists can hold mixed types and are generally used for more general purposes.\n",
        "\n",
        "---\n",
        "\n",
        "### 7. **How do tuples ensure data integrity in Python?**\n",
        "Tuples ensure data integrity because they are immutable. Once a tuple is created, its contents cannot be changed, which guarantees that the data remains constant throughout the program.\n",
        "\n",
        "---\n",
        "\n",
        "### 8. **What is a hash table, and how does it relate to dictionaries in Python?**\n",
        "A **hash table** is a data structure that stores data in an array format, where each element is indexed using a hash function. This allows for fast lookups, inserts, and deletes. In Python, dictionaries use hash tables internally to store key-value pairs efficiently.\n",
        "\n",
        "---\n",
        "\n",
        "### 9. **Can lists contain different data types in Python?**\n",
        "Yes, lists in Python can contain elements of different data types. For example:\n",
        "  ```python\n",
        "  my_list = [1, \"hello\", 3.14, True]\n",
        "  ```\n",
        "\n",
        "---\n",
        "\n",
        "### 10. **Explain why strings are immutable in Python**\n",
        "Strings are immutable in Python for several reasons:\n",
        "- **Efficiency**: Immutable objects are easier to optimize in memory. Strings are heavily used in Python, and immutability ensures that they can be safely shared across the program without causing unexpected modifications.\n",
        "- **Security and safety**: When strings are immutable, you can avoid accidental changes, which helps maintain data integrity and reliability in the program.\n",
        "\n",
        "---\n",
        "\n",
        "### 11. **What advantages do dictionaries offer over lists for certain tasks?**\n",
        "- **Fast lookups**: Dictionaries allow fast O(1) average-time complexity for lookups based on the key, while lists require O(n) time to search for an element.\n",
        "- **Key-value mapping**: Dictionaries provide a way to associate values with unique keys, making them ideal for tasks like counting occurrences or storing data that has a clear relationship between keys and values.\n",
        "  ```python\n",
        "  my_dict = {\"apple\": 1, \"banana\": 2}\n",
        "  ```\n",
        "\n",
        "---\n",
        "\n",
        "### 12. **How do sets handle duplicate values in Python?**\n",
        "Sets automatically remove duplicates. When you add an element to a set, if that element is already present, it will not be added again.\n",
        "  ```python\n",
        "  my_set = {1, 2, 3, 3}\n",
        "  print(my_set)  # Output: {1, 2, 3}\n",
        "  ```\n",
        "\n",
        "---\n",
        "\n",
        "### 13. **Describe a scenario where using a tuple would be preferable over a list**\n",
        "Using a tuple would be preferable when you need to store data that should not be modified, such as a set of constant configuration values or coordinates in a 2D space.\n",
        "  ```python\n",
        "  coordinates = (4, 5)\n",
        "  ```\n",
        "\n",
        "---\n",
        "\n",
        "### 14. **How does the “in” keyword work differently for lists and dictionaries?**\n",
        "- For **lists**, the `in` keyword checks for membership by searching through the list, which has a time complexity of O(n).\n",
        "  ```python\n",
        "  my_list = [1, 2, 3]\n",
        "  print(2 in my_list)  # True\n",
        "  ```\n",
        "- For **dictionaries**, the `in` keyword checks for the existence of a key, and since dictionaries are implemented as hash tables, this operation is faster, with a time complexity of O(1) on average.\n",
        "  ```python\n",
        "  my_dict = {\"a\": 1, \"b\": 2}\n",
        "  print(\"a\" in my_dict)  # True\n",
        "  ```\n",
        "\n",
        "---\n",
        "\n",
        "### 15. **Can you modify the elements of a tuple? Explain why or why not**\n",
        "No, you cannot modify the elements of a tuple because tuples are **immutable**. Once a tuple is created, its elements cannot be altered. This behavior ensures data integrity.\n",
        "  ```python\n",
        "  my_tuple = (1, 2, 3)\n",
        "  my_tuple[0] = 10  # This will raise an error\n",
        "  ```\n",
        "\n",
        "---\n",
        "\n",
        "### 16. **What is a nested dictionary, and give an example of its use case**\n",
        "A **nested dictionary** is a dictionary where the values themselves are dictionaries. They are useful when you need to represent complex hierarchical data, such as in cases involving multiple attributes per item.\n",
        "  ```python\n",
        "  employee = {\n",
        "      \"name\": \"Alice\",\n",
        "      \"address\": {\"street\": \"123 Main St\", \"city\": \"Springfield\"},\n",
        "      \"age\": 30\n",
        "  }\n",
        "  ```\n",
        "\n",
        "---\n",
        "\n",
        "### 17. **Describe the time complexity of accessing elements in a dictionary**\n",
        "Accessing elements in a dictionary is typically **O(1)** (constant time), thanks to the underlying hash table. However, in rare cases where hash collisions occur, it could degrade to O(n).\n",
        "\n",
        "---\n",
        "\n",
        "### 18. **In what situations are lists preferred over dictionaries?**\n",
        "Lists are preferred when:\n",
        "- You need an ordered collection of items.\n",
        "- You don't require key-value pairs, just the ability to store and access elements by index.\n",
        "- You need to allow duplicate values.\n",
        "\n",
        "---\n",
        "\n",
        "### 19. **Why are dictionaries considered unordered, and how does that affect data retrieval?**\n",
        "Dictionaries are considered unordered because they do not guarantee the order of key-value pairs (prior to Python 3.7). However, starting with Python 3.7, dictionaries maintain insertion order. This does not affect data retrieval directly, but it means that the order of items when iterating over a dictionary was not predictable in earlier versions of Python.\n",
        "\n",
        "---\n",
        "\n",
        "### 20. **Explain the difference between a list and a dictionary in terms of data retrieval**\n",
        "- **List**: Data is accessed by index, and the order is important. Access time is O(1) for known indices.\n",
        "  ```python\n",
        "  my_list = [10, 20, 30]\n",
        "  print(my_list[1])  # Output: 20\n",
        "  ```\n",
        "- **Dictionary**: Data is accessed by key, not by index. Retrieval time is typically O(1), making dictionaries ideal for situations where you need to map keys to values.\n",
        "  ```python\n",
        "  my_dict = {\"apple\": 10, \"banana\": 20}\n",
        "  print(my_dict[\"banana\"])  # Output: 20\n",
        "  ```"
      ],
      "metadata": {
        "id": "YK7fDPcT7CUc"
      }
    },
    {
      "cell_type": "markdown",
      "source": [
        "**Practical Questions**\n",
        "\n",
        "**1. Create a string with your name and print it**"
      ],
      "metadata": {
        "id": "rKUkn8MH8Zo5"
      }
    },
    {
      "cell_type": "code",
      "source": [
        "my_name = \"Rupam Banerjee\"  # Replace with your name\n",
        "print(my_name)"
      ],
      "metadata": {
        "colab": {
          "base_uri": "https://localhost:8080/"
        },
        "id": "hS3vbuYS8fNU",
        "outputId": "394149ff-cc55-4091-93c1-5a8d0bcd1c77"
      },
      "execution_count": 3,
      "outputs": [
        {
          "output_type": "stream",
          "name": "stdout",
          "text": [
            "Rupam Banerjee\n"
          ]
        }
      ]
    },
    {
      "cell_type": "markdown",
      "source": [
        "**2. Write a code to find the length of the string \"Hello World\"**"
      ],
      "metadata": {
        "id": "7jqcew128zdo"
      }
    },
    {
      "cell_type": "code",
      "source": [
        "string = \"Hello World\"\n",
        "length = len(string)\n",
        "print(length)\n"
      ],
      "metadata": {
        "colab": {
          "base_uri": "https://localhost:8080/"
        },
        "id": "75OYd0bE82bQ",
        "outputId": "e903bfd3-5dc5-40f7-881e-e4fb10854ffa"
      },
      "execution_count": 4,
      "outputs": [
        {
          "output_type": "stream",
          "name": "stdout",
          "text": [
            "11\n"
          ]
        }
      ]
    },
    {
      "cell_type": "markdown",
      "source": [
        "**3. Write a code to slice the first 3 characters from the string \"Python Programming\"**"
      ],
      "metadata": {
        "id": "_Gxq8pi9858_"
      }
    },
    {
      "cell_type": "code",
      "source": [
        "string = \"Python Programming\"\n",
        "sliced_string = string[:3]\n",
        "print(sliced_string)\n"
      ],
      "metadata": {
        "colab": {
          "base_uri": "https://localhost:8080/"
        },
        "id": "fs5BF70d89xG",
        "outputId": "5b54c9a4-acdf-4fd9-d1d2-90f1b9c55f96"
      },
      "execution_count": 5,
      "outputs": [
        {
          "output_type": "stream",
          "name": "stdout",
          "text": [
            "Pyt\n"
          ]
        }
      ]
    },
    {
      "cell_type": "markdown",
      "source": [
        "**4. Write a code to convert the string \"hello\" to uppercase**"
      ],
      "metadata": {
        "id": "nOkMO6c_9K0H"
      }
    },
    {
      "cell_type": "code",
      "source": [
        "string = \"hello\"\n",
        "uppercased_string = string.upper()\n",
        "print(uppercased_string)"
      ],
      "metadata": {
        "colab": {
          "base_uri": "https://localhost:8080/"
        },
        "id": "cYJ_GeS39PHw",
        "outputId": "fbc52372-d4d1-4fd7-d5d2-231e88e6884b"
      },
      "execution_count": 6,
      "outputs": [
        {
          "output_type": "stream",
          "name": "stdout",
          "text": [
            "HELLO\n"
          ]
        }
      ]
    },
    {
      "cell_type": "markdown",
      "source": [
        "**5. Write a code to replace the word \"apple\" with \"orange\" in the string \"I like apple\"**"
      ],
      "metadata": {
        "id": "pp9phR8h9SJ2"
      }
    },
    {
      "cell_type": "code",
      "source": [
        "string = \"I like apple\"\n",
        "new_string = string.replace(\"apple\", \"orange\")\n",
        "print(new_string)"
      ],
      "metadata": {
        "colab": {
          "base_uri": "https://localhost:8080/"
        },
        "id": "n0eSWWVZ9W4j",
        "outputId": "ab44bfc2-f463-4522-a763-db29b9925031"
      },
      "execution_count": 7,
      "outputs": [
        {
          "output_type": "stream",
          "name": "stdout",
          "text": [
            "I like orange\n"
          ]
        }
      ]
    },
    {
      "cell_type": "markdown",
      "source": [
        "**6. Write a code to create a list with numbers 1 to 5 and print it**"
      ],
      "metadata": {
        "id": "6FtEr2qw9bQO"
      }
    },
    {
      "cell_type": "code",
      "source": [
        "my_list = [1, 2, 3, 4, 5]\n",
        "print(my_list)"
      ],
      "metadata": {
        "colab": {
          "base_uri": "https://localhost:8080/"
        },
        "id": "60tJ4nXm9g2Y",
        "outputId": "506fdcfd-4319-4654-bbd8-1bf1012c07e5"
      },
      "execution_count": 8,
      "outputs": [
        {
          "output_type": "stream",
          "name": "stdout",
          "text": [
            "[1, 2, 3, 4, 5]\n"
          ]
        }
      ]
    },
    {
      "cell_type": "markdown",
      "source": [
        "**7. Write a code to append the number 10 to the list [1, 2, 3, 4]**"
      ],
      "metadata": {
        "id": "8LoBIQkT9lNN"
      }
    },
    {
      "cell_type": "code",
      "source": [
        "my_list = [1, 2, 3, 4]\n",
        "my_list.append(10)\n",
        "print(my_list)"
      ],
      "metadata": {
        "colab": {
          "base_uri": "https://localhost:8080/"
        },
        "id": "8zWJlN7y9qzP",
        "outputId": "5d4c1909-0abd-4100-fe67-8bb23e534be2"
      },
      "execution_count": 9,
      "outputs": [
        {
          "output_type": "stream",
          "name": "stdout",
          "text": [
            "[1, 2, 3, 4, 10]\n"
          ]
        }
      ]
    },
    {
      "cell_type": "markdown",
      "source": [
        "**8. Write a code to remove the number 3 from the list [1, 2, 3, 4, 5]**"
      ],
      "metadata": {
        "id": "LdBoAuGA9xCn"
      }
    },
    {
      "cell_type": "code",
      "source": [
        "my_list = [1, 2, 3, 4, 5]\n",
        "my_list.remove(3)\n",
        "print(my_list)"
      ],
      "metadata": {
        "colab": {
          "base_uri": "https://localhost:8080/"
        },
        "id": "Oy9LU5SD91Cv",
        "outputId": "8259c940-c354-4f6b-9d37-e6dd041d525e"
      },
      "execution_count": 10,
      "outputs": [
        {
          "output_type": "stream",
          "name": "stdout",
          "text": [
            "[1, 2, 4, 5]\n"
          ]
        }
      ]
    },
    {
      "cell_type": "markdown",
      "source": [
        "**9. Write a code to access the second element in the list ['a', 'b', 'c', 'd']**"
      ],
      "metadata": {
        "id": "71KHpTn893nI"
      }
    },
    {
      "cell_type": "code",
      "source": [
        "my_list = ['a', 'b', 'c', 'd']\n",
        "second_element = my_list[1]\n",
        "print(second_element)"
      ],
      "metadata": {
        "colab": {
          "base_uri": "https://localhost:8080/"
        },
        "id": "iLI_1ga998we",
        "outputId": "54cd7182-b213-4a39-a500-20af26b36d0e"
      },
      "execution_count": 11,
      "outputs": [
        {
          "output_type": "stream",
          "name": "stdout",
          "text": [
            "b\n"
          ]
        }
      ]
    },
    {
      "cell_type": "markdown",
      "source": [
        "**10. Write a code to reverse the list [10, 20, 30, 40, 50]**"
      ],
      "metadata": {
        "id": "AhdX8Qiz-AiD"
      }
    },
    {
      "cell_type": "code",
      "source": [
        "my_list = [10, 20, 30, 40, 50]\n",
        "my_list.reverse()\n",
        "print(my_list)"
      ],
      "metadata": {
        "colab": {
          "base_uri": "https://localhost:8080/"
        },
        "id": "JG9_ZNkH-Een",
        "outputId": "08cee554-df49-4437-b9ef-9b1606adcbcd"
      },
      "execution_count": 12,
      "outputs": [
        {
          "output_type": "stream",
          "name": "stdout",
          "text": [
            "[50, 40, 30, 20, 10]\n"
          ]
        }
      ]
    },
    {
      "cell_type": "markdown",
      "source": [
        "**11. Write a code to create a tuple with the elements 100, 200, 300 and print it.**"
      ],
      "metadata": {
        "id": "Ey_tpJ2p_BHh"
      }
    },
    {
      "cell_type": "code",
      "source": [
        "my_tuple = (100, 200, 300)\n",
        "print(my_tuple)"
      ],
      "metadata": {
        "colab": {
          "base_uri": "https://localhost:8080/"
        },
        "id": "6SyB0xeC_pV6",
        "outputId": "1c162526-96a7-4d56-f17e-eb216b85c093"
      },
      "execution_count": 13,
      "outputs": [
        {
          "output_type": "stream",
          "name": "stdout",
          "text": [
            "(100, 200, 300)\n"
          ]
        }
      ]
    },
    {
      "cell_type": "markdown",
      "source": [
        "**12. Write a code to access the second-to-last element of the tuple ('red', 'green', 'blue', 'yellow').**"
      ],
      "metadata": {
        "id": "AVJKJKs2_yfF"
      }
    },
    {
      "cell_type": "code",
      "source": [
        "my_tuple = ('red', 'green', 'blue', 'yellow')\n",
        "second_to_last = my_tuple[-2]\n",
        "print(second_to_last)"
      ],
      "metadata": {
        "colab": {
          "base_uri": "https://localhost:8080/"
        },
        "id": "STdYX5ZU_4fn",
        "outputId": "c1384edf-76f1-440f-d72e-7d1dcfe6c9c6"
      },
      "execution_count": 14,
      "outputs": [
        {
          "output_type": "stream",
          "name": "stdout",
          "text": [
            "blue\n"
          ]
        }
      ]
    },
    {
      "cell_type": "markdown",
      "source": [
        "**13. Write a code to find the minimum number in the tuple (10, 20, 5, 15).**"
      ],
      "metadata": {
        "id": "zBgOWpkxAC8-"
      }
    },
    {
      "cell_type": "code",
      "source": [
        "my_tuple = (10, 20, 5, 15)\n",
        "minimum_value = min(my_tuple)\n",
        "print(minimum_value)"
      ],
      "metadata": {
        "colab": {
          "base_uri": "https://localhost:8080/"
        },
        "id": "FKXO21OcAFir",
        "outputId": "feb06377-57df-487b-e058-859f3961950d"
      },
      "execution_count": 15,
      "outputs": [
        {
          "output_type": "stream",
          "name": "stdout",
          "text": [
            "5\n"
          ]
        }
      ]
    },
    {
      "cell_type": "markdown",
      "source": [
        "**14. Write a code to find the index of the element \"cat\" in the tuple ('dog', 'cat', 'rabbit').**"
      ],
      "metadata": {
        "id": "Nf2w3BMLAMnW"
      }
    },
    {
      "cell_type": "code",
      "source": [
        "my_tuple = ('dog', 'cat', 'rabbit')\n",
        "index_of_cat = my_tuple.index('cat')\n",
        "print(index_of_cat)"
      ],
      "metadata": {
        "colab": {
          "base_uri": "https://localhost:8080/"
        },
        "id": "JJeovePxANds",
        "outputId": "8e10ac4b-31fb-45d7-97c3-417ccb4d7224"
      },
      "execution_count": 16,
      "outputs": [
        {
          "output_type": "stream",
          "name": "stdout",
          "text": [
            "1\n"
          ]
        }
      ]
    },
    {
      "cell_type": "markdown",
      "source": [
        "**15. Write a code to create a tuple containing three different fruits and check if \"kiwi\" is in it.**"
      ],
      "metadata": {
        "id": "PiLcttQSASoa"
      }
    },
    {
      "cell_type": "code",
      "source": [
        "fruits = ('apple', 'banana', 'cherry')\n",
        "contains_kiwi = 'kiwi' in fruits\n",
        "print(contains_kiwi)"
      ],
      "metadata": {
        "colab": {
          "base_uri": "https://localhost:8080/"
        },
        "id": "33YbZG95ATk3",
        "outputId": "82463012-dad3-4791-d116-6067e17e3411"
      },
      "execution_count": 17,
      "outputs": [
        {
          "output_type": "stream",
          "name": "stdout",
          "text": [
            "False\n"
          ]
        }
      ]
    },
    {
      "cell_type": "markdown",
      "source": [
        "**16. Write a code to create a set with the elements 'a', 'b', 'c' and print it.**"
      ],
      "metadata": {
        "id": "MN4QDaDjAb-b"
      }
    },
    {
      "cell_type": "code",
      "source": [
        "my_set = {'a', 'b', 'c'}\n",
        "print(my_set)"
      ],
      "metadata": {
        "colab": {
          "base_uri": "https://localhost:8080/"
        },
        "id": "8KiX4G1PAc_h",
        "outputId": "ba4e7382-e7c7-4a50-b021-5ed082866943"
      },
      "execution_count": 18,
      "outputs": [
        {
          "output_type": "stream",
          "name": "stdout",
          "text": [
            "{'b', 'a', 'c'}\n"
          ]
        }
      ]
    },
    {
      "cell_type": "markdown",
      "source": [
        "**17. Write a code to clear all elements from the set {1, 2, 3, 4, 5}.**"
      ],
      "metadata": {
        "id": "ogKWPkEwAf1I"
      }
    },
    {
      "cell_type": "code",
      "source": [
        "my_set = {1, 2, 3, 4, 5}\n",
        "my_set.clear()\n",
        "print(my_set)\n"
      ],
      "metadata": {
        "colab": {
          "base_uri": "https://localhost:8080/"
        },
        "id": "RTbeUoYLAiT8",
        "outputId": "b2a4961e-13f4-442f-9102-fdc3e2eefbed"
      },
      "execution_count": 19,
      "outputs": [
        {
          "output_type": "stream",
          "name": "stdout",
          "text": [
            "set()\n"
          ]
        }
      ]
    },
    {
      "cell_type": "markdown",
      "source": [
        "**18. Write a code to remove the element 4 from the set {1, 2, 3, 4}.**"
      ],
      "metadata": {
        "id": "XZRRPbfTAoZY"
      }
    },
    {
      "cell_type": "code",
      "source": [
        "my_set = {1, 2, 3, 4}\n",
        "my_set.remove(4)\n",
        "print(my_set)"
      ],
      "metadata": {
        "colab": {
          "base_uri": "https://localhost:8080/"
        },
        "id": "s1LS8VFxAqb4",
        "outputId": "471c8668-f3bc-4c4e-d9bd-26b51ba44749"
      },
      "execution_count": 20,
      "outputs": [
        {
          "output_type": "stream",
          "name": "stdout",
          "text": [
            "{1, 2, 3}\n"
          ]
        }
      ]
    },
    {
      "cell_type": "markdown",
      "source": [
        " **19. Write a code to find the union of two sets {1, 2, 3} and {3, 4, 5}.**"
      ],
      "metadata": {
        "id": "XzR4e5yaAzBi"
      }
    },
    {
      "cell_type": "code",
      "source": [
        "set1 = {1, 2, 3}\n",
        "set2 = {3, 4, 5}\n",
        "union_set = set1.union(set2)\n",
        "print(union_set)\n"
      ],
      "metadata": {
        "colab": {
          "base_uri": "https://localhost:8080/"
        },
        "id": "iB0f8r0MA0Zl",
        "outputId": "e1706eae-b0ab-4827-99ec-e1d0dc3e4cdc"
      },
      "execution_count": 21,
      "outputs": [
        {
          "output_type": "stream",
          "name": "stdout",
          "text": [
            "{1, 2, 3, 4, 5}\n"
          ]
        }
      ]
    },
    {
      "cell_type": "markdown",
      "source": [
        "**20. Write a code to find the intersection of two sets {1, 2, 3} and {2, 3, 4}.**"
      ],
      "metadata": {
        "id": "Evp8NCUdA3eN"
      }
    },
    {
      "cell_type": "code",
      "source": [
        "set1 = {1, 2, 3}\n",
        "set2 = {2, 3, 4}\n",
        "intersection_set = set1.intersection(set2)\n",
        "print(intersection_set)\n"
      ],
      "metadata": {
        "colab": {
          "base_uri": "https://localhost:8080/"
        },
        "id": "HdFjHR74A6Ck",
        "outputId": "7efed1f2-c42e-46a9-d239-d013e1ceb524"
      },
      "execution_count": 22,
      "outputs": [
        {
          "output_type": "stream",
          "name": "stdout",
          "text": [
            "{2, 3}\n"
          ]
        }
      ]
    },
    {
      "cell_type": "markdown",
      "source": [
        "**21. Write a code to create a dictionary with the keys \"name\", \"age\", and \"city\", and print it.**"
      ],
      "metadata": {
        "id": "ZP4X73hpA9G4"
      }
    },
    {
      "cell_type": "code",
      "source": [
        "my_dict = {\"name\": \"John\", \"age\": 25, \"city\": \"New York\"}\n",
        "print(my_dict)\n"
      ],
      "metadata": {
        "colab": {
          "base_uri": "https://localhost:8080/"
        },
        "id": "rmyisx6mBABf",
        "outputId": "f9f41147-f141-41e1-b4a7-4ab01d625a71"
      },
      "execution_count": 23,
      "outputs": [
        {
          "output_type": "stream",
          "name": "stdout",
          "text": [
            "{'name': 'John', 'age': 25, 'city': 'New York'}\n"
          ]
        }
      ]
    },
    {
      "cell_type": "markdown",
      "source": [
        "**22. Write a code to add a new key-value pair \"country\": \"USA\" to the dictionary {'name': 'John', 'age': 25}.**"
      ],
      "metadata": {
        "id": "cU5ptedKBHEt"
      }
    },
    {
      "cell_type": "code",
      "source": [
        "my_dict = {'name': 'John', 'age': 25}\n",
        "my_dict['country'] = 'USA'\n",
        "print(my_dict)"
      ],
      "metadata": {
        "colab": {
          "base_uri": "https://localhost:8080/"
        },
        "id": "BztnGHdpBIhH",
        "outputId": "3f085048-b2b9-424e-de61-9a2962f2b201"
      },
      "execution_count": 24,
      "outputs": [
        {
          "output_type": "stream",
          "name": "stdout",
          "text": [
            "{'name': 'John', 'age': 25, 'country': 'USA'}\n"
          ]
        }
      ]
    },
    {
      "cell_type": "markdown",
      "source": [
        "**23. Write a code to access the value associated with the key \"name\" in the dictionary {'name': 'Alice', 'age': 30}.**"
      ],
      "metadata": {
        "id": "b5kfxDJWBNAO"
      }
    },
    {
      "cell_type": "code",
      "source": [
        "my_dict = {'name': 'Alice', 'age': 30}\n",
        "name_value = my_dict['name']\n",
        "print(name_value)\n"
      ],
      "metadata": {
        "colab": {
          "base_uri": "https://localhost:8080/"
        },
        "id": "BC8ilzkvBP4C",
        "outputId": "6b7b51f2-cee1-4ff0-c678-d64625027178"
      },
      "execution_count": 25,
      "outputs": [
        {
          "output_type": "stream",
          "name": "stdout",
          "text": [
            "Alice\n"
          ]
        }
      ]
    },
    {
      "cell_type": "markdown",
      "source": [
        " **24. Write a code to remove the key \"age\" from the dictionary {'name': 'Bob', 'age': 22, 'city': 'New York'}.**"
      ],
      "metadata": {
        "id": "t7UzZW87BS5l"
      }
    },
    {
      "cell_type": "code",
      "source": [
        "my_dict = {'name': 'Bob', 'age': 22, 'city': 'New York'}\n",
        "del my_dict['age']\n",
        "print(my_dict)\n"
      ],
      "metadata": {
        "colab": {
          "base_uri": "https://localhost:8080/"
        },
        "id": "d3EAPCsPBVR8",
        "outputId": "96dd6d3b-0724-45cd-a0d5-ca00ac3c43a9"
      },
      "execution_count": 26,
      "outputs": [
        {
          "output_type": "stream",
          "name": "stdout",
          "text": [
            "{'name': 'Bob', 'city': 'New York'}\n"
          ]
        }
      ]
    },
    {
      "cell_type": "markdown",
      "source": [
        " **25. Write a code to check if the key \"city\" exists in the dictionary {'name': 'Alice', 'city': 'Paris'}.**"
      ],
      "metadata": {
        "id": "rgxa-szLBY_R"
      }
    },
    {
      "cell_type": "code",
      "source": [
        "my_dict = {'name': 'Alice', 'city': 'Paris'}\n",
        "key_exists = 'city' in my_dict\n",
        "print(key_exists)\n"
      ],
      "metadata": {
        "colab": {
          "base_uri": "https://localhost:8080/"
        },
        "id": "Qj3mIceHBb7e",
        "outputId": "452d00a1-ee57-4c58-e57e-9308a0a9e14f"
      },
      "execution_count": 27,
      "outputs": [
        {
          "output_type": "stream",
          "name": "stdout",
          "text": [
            "True\n"
          ]
        }
      ]
    },
    {
      "cell_type": "markdown",
      "source": [
        " **26. Write a code to create a list, a tuple, and a dictionary, and print them all.**"
      ],
      "metadata": {
        "id": "_lA7dtFxBfhL"
      }
    },
    {
      "cell_type": "code",
      "source": [
        "my_list = [1, 2, 3]\n",
        "my_tuple = (4, 5, 6)\n",
        "my_dict = {'name': 'John', 'age': 25}\n",
        "\n",
        "print(\"List:\", my_list)\n",
        "print(\"Tuple:\", my_tuple)\n",
        "print(\"Dictionary:\", my_dict)\n"
      ],
      "metadata": {
        "colab": {
          "base_uri": "https://localhost:8080/"
        },
        "id": "Z5nVVAacBl-g",
        "outputId": "83cc56f9-0169-45dc-9286-0f1ca5b019db"
      },
      "execution_count": 28,
      "outputs": [
        {
          "output_type": "stream",
          "name": "stdout",
          "text": [
            "List: [1, 2, 3]\n",
            "Tuple: (4, 5, 6)\n",
            "Dictionary: {'name': 'John', 'age': 25}\n"
          ]
        }
      ]
    },
    {
      "cell_type": "markdown",
      "source": [
        "**27. Write a code to create a list of 5 random numbers between 1 and 100, sort it in ascending order, and print the result.**"
      ],
      "metadata": {
        "id": "0XmyHah6BqKe"
      }
    },
    {
      "cell_type": "code",
      "source": [
        "import random\n",
        "\n",
        "random_numbers = [random.randint(1, 100) for _ in range(5)]\n",
        "random_numbers.sort()\n",
        "print(random_numbers)"
      ],
      "metadata": {
        "colab": {
          "base_uri": "https://localhost:8080/"
        },
        "id": "2AKa_PQpB4cv",
        "outputId": "c934579d-2a60-4f1c-ddba-044fe871ce6e"
      },
      "execution_count": 29,
      "outputs": [
        {
          "output_type": "stream",
          "name": "stdout",
          "text": [
            "[4, 8, 24, 57, 61]\n"
          ]
        }
      ]
    },
    {
      "cell_type": "markdown",
      "source": [
        "**28. Write a code to create a list with strings and print the element at the third index.**"
      ],
      "metadata": {
        "id": "jUqg6HlfCBD5"
      }
    },
    {
      "cell_type": "code",
      "source": [
        "my_list = ['apple', 'banana', 'cherry', 'date', 'elderberry']\n",
        "element_at_third_index = my_list[3]\n",
        "print(element_at_third_index)\n"
      ],
      "metadata": {
        "colab": {
          "base_uri": "https://localhost:8080/"
        },
        "id": "P9e2wMD9CE3Y",
        "outputId": "7373f8fc-179b-4885-d445-1e2ccea96476"
      },
      "execution_count": 30,
      "outputs": [
        {
          "output_type": "stream",
          "name": "stdout",
          "text": [
            "date\n"
          ]
        }
      ]
    },
    {
      "cell_type": "markdown",
      "source": [
        "**29. Write a code to combine two dictionaries into one and print the result.**"
      ],
      "metadata": {
        "id": "arV3GYywCI7W"
      }
    },
    {
      "cell_type": "code",
      "source": [
        "dict1 = {'a': 1, 'b': 2}\n",
        "dict2 = {'c': 3, 'd': 4}\n",
        "combined_dict = {**dict1, **dict2}\n",
        "print(combined_dict)\n"
      ],
      "metadata": {
        "colab": {
          "base_uri": "https://localhost:8080/"
        },
        "id": "fo7BUOYjCLLn",
        "outputId": "973aa4e5-059a-4c2d-d8ba-cacf611486e9"
      },
      "execution_count": 31,
      "outputs": [
        {
          "output_type": "stream",
          "name": "stdout",
          "text": [
            "{'a': 1, 'b': 2, 'c': 3, 'd': 4}\n"
          ]
        }
      ]
    },
    {
      "cell_type": "markdown",
      "source": [
        "**30. Write a code to convert a list of strings into a set.**"
      ],
      "metadata": {
        "id": "pdrmR9ggCUQ-"
      }
    },
    {
      "cell_type": "code",
      "source": [
        "my_list = ['apple', 'banana', 'cherry', 'apple']\n",
        "my_set = set(my_list)\n",
        "print(my_set)\n"
      ],
      "metadata": {
        "colab": {
          "base_uri": "https://localhost:8080/"
        },
        "id": "bBlsd7qhCVHj",
        "outputId": "18e671b8-f0d3-4af3-8e4e-bc63312b23f0"
      },
      "execution_count": 32,
      "outputs": [
        {
          "output_type": "stream",
          "name": "stdout",
          "text": [
            "{'apple', 'banana', 'cherry'}\n"
          ]
        }
      ]
    }
  ]
}